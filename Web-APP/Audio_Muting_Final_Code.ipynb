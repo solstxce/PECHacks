{
  "cells": [
    {
      "cell_type": "code",
      "execution_count": 1,
      "metadata": {
        "colab": {
          "base_uri": "https://localhost:8080/"
        },
        "id": "y8TiP85JcE4B",
        "outputId": "2a466ef6-823e-4192-9bf4-e7820b7a7fd3"
      },
      "outputs": [
        {
          "name": "stdout",
          "output_type": "stream",
          "text": [
            "Requirement already satisfied: moviepy in /usr/local/lib/python3.10/dist-packages (1.0.3)\n",
            "Collecting openai-whisper\n",
            "  Downloading openai-whisper-20240930.tar.gz (800 kB)\n",
            "\u001b[2K     \u001b[90m━━━━━━━━━━━━━━━━━━━━━━━━━━━━━━━━━━━━━━━━\u001b[0m \u001b[32m800.5/800.5 kB\u001b[0m \u001b[31m16.0 MB/s\u001b[0m eta \u001b[36m0:00:00\u001b[0m\n",
            "\u001b[?25h  Installing build dependencies ... \u001b[?25l\u001b[?25hdone\n",
            "  Getting requirements to build wheel ... \u001b[?25l\u001b[?25hdone\n",
            "  Preparing metadata (pyproject.toml) ... \u001b[?25l\u001b[?25hdone\n",
            "Requirement already satisfied: torch in /usr/local/lib/python3.10/dist-packages (2.5.1+cu121)\n",
            "Requirement already satisfied: numpy in /usr/local/lib/python3.10/dist-packages (1.26.4)\n",
            "Requirement already satisfied: decorator<5.0,>=4.0.2 in /usr/local/lib/python3.10/dist-packages (from moviepy) (4.4.2)\n",
            "Requirement already satisfied: imageio<3.0,>=2.5 in /usr/local/lib/python3.10/dist-packages (from moviepy) (2.36.1)\n",
            "Requirement already satisfied: imageio_ffmpeg>=0.2.0 in /usr/local/lib/python3.10/dist-packages (from moviepy) (0.5.1)\n",
            "Requirement already satisfied: tqdm<5.0,>=4.11.2 in /usr/local/lib/python3.10/dist-packages (from moviepy) (4.67.1)\n",
            "Requirement already satisfied: requests<3.0,>=2.8.1 in /usr/local/lib/python3.10/dist-packages (from moviepy) (2.32.3)\n",
            "Requirement already satisfied: proglog<=1.0.0 in /usr/local/lib/python3.10/dist-packages (from moviepy) (0.1.10)\n",
            "Requirement already satisfied: numba in /usr/local/lib/python3.10/dist-packages (from openai-whisper) (0.60.0)\n",
            "Requirement already satisfied: more-itertools in /usr/local/lib/python3.10/dist-packages (from openai-whisper) (10.5.0)\n",
            "Collecting tiktoken (from openai-whisper)\n",
            "  Downloading tiktoken-0.8.0-cp310-cp310-manylinux_2_17_x86_64.manylinux2014_x86_64.whl.metadata (6.6 kB)\n",
            "Collecting triton>=2.0.0 (from openai-whisper)\n",
            "  Downloading triton-3.1.0-cp310-cp310-manylinux_2_17_x86_64.manylinux2014_x86_64.whl.metadata (1.3 kB)\n",
            "Requirement already satisfied: filelock in /usr/local/lib/python3.10/dist-packages (from torch) (3.16.1)\n",
            "Requirement already satisfied: typing-extensions>=4.8.0 in /usr/local/lib/python3.10/dist-packages (from torch) (4.12.2)\n",
            "Requirement already satisfied: networkx in /usr/local/lib/python3.10/dist-packages (from torch) (3.4.2)\n",
            "Requirement already satisfied: jinja2 in /usr/local/lib/python3.10/dist-packages (from torch) (3.1.4)\n",
            "Requirement already satisfied: fsspec in /usr/local/lib/python3.10/dist-packages (from torch) (2024.10.0)\n",
            "Requirement already satisfied: sympy==1.13.1 in /usr/local/lib/python3.10/dist-packages (from torch) (1.13.1)\n",
            "Requirement already satisfied: mpmath<1.4,>=1.1.0 in /usr/local/lib/python3.10/dist-packages (from sympy==1.13.1->torch) (1.3.0)\n",
            "Requirement already satisfied: pillow>=8.3.2 in /usr/local/lib/python3.10/dist-packages (from imageio<3.0,>=2.5->moviepy) (11.0.0)\n",
            "Requirement already satisfied: setuptools in /usr/local/lib/python3.10/dist-packages (from imageio_ffmpeg>=0.2.0->moviepy) (75.1.0)\n",
            "Requirement already satisfied: charset-normalizer<4,>=2 in /usr/local/lib/python3.10/dist-packages (from requests<3.0,>=2.8.1->moviepy) (3.4.0)\n",
            "Requirement already satisfied: idna<4,>=2.5 in /usr/local/lib/python3.10/dist-packages (from requests<3.0,>=2.8.1->moviepy) (3.10)\n",
            "Requirement already satisfied: urllib3<3,>=1.21.1 in /usr/local/lib/python3.10/dist-packages (from requests<3.0,>=2.8.1->moviepy) (2.2.3)\n",
            "Requirement already satisfied: certifi>=2017.4.17 in /usr/local/lib/python3.10/dist-packages (from requests<3.0,>=2.8.1->moviepy) (2024.12.14)\n",
            "Requirement already satisfied: MarkupSafe>=2.0 in /usr/local/lib/python3.10/dist-packages (from jinja2->torch) (3.0.2)\n",
            "Requirement already satisfied: llvmlite<0.44,>=0.43.0dev0 in /usr/local/lib/python3.10/dist-packages (from numba->openai-whisper) (0.43.0)\n",
            "Requirement already satisfied: regex>=2022.1.18 in /usr/local/lib/python3.10/dist-packages (from tiktoken->openai-whisper) (2024.11.6)\n",
            "Downloading triton-3.1.0-cp310-cp310-manylinux_2_17_x86_64.manylinux2014_x86_64.whl (209.5 MB)\n",
            "\u001b[2K   \u001b[90m━━━━━━━━━━━━━━━━━━━━━━━━━━━━━━━━━━━━━━━━\u001b[0m \u001b[32m209.5/209.5 MB\u001b[0m \u001b[31m6.0 MB/s\u001b[0m eta \u001b[36m0:00:00\u001b[0m\n",
            "\u001b[?25hDownloading tiktoken-0.8.0-cp310-cp310-manylinux_2_17_x86_64.manylinux2014_x86_64.whl (1.2 MB)\n",
            "\u001b[2K   \u001b[90m━━━━━━━━━━━━━━━━━━━━━━━━━━━━━━━━━━━━━━━━\u001b[0m \u001b[32m1.2/1.2 MB\u001b[0m \u001b[31m49.6 MB/s\u001b[0m eta \u001b[36m0:00:00\u001b[0m\n",
            "\u001b[?25hBuilding wheels for collected packages: openai-whisper\n",
            "  Building wheel for openai-whisper (pyproject.toml) ... \u001b[?25l\u001b[?25hdone\n",
            "  Created wheel for openai-whisper: filename=openai_whisper-20240930-py3-none-any.whl size=803320 sha256=ecbbf5ec22e3f5c9812705add145e2e48bcc494e0cf7b7f77d28c45271fe22c8\n",
            "  Stored in directory: /root/.cache/pip/wheels/dd/4a/1f/d1c4bf3b9133c8168fe617ed979cab7b14fe381d059ffb9d83\n",
            "Successfully built openai-whisper\n",
            "Installing collected packages: triton, tiktoken, openai-whisper\n",
            "Successfully installed openai-whisper-20240930 tiktoken-0.8.0 triton-3.1.0\n"
          ]
        }
      ],
      "source": [
        "!pip install moviepy openai-whisper torch numpy"
      ]
    },
    {
      "cell_type": "code",
      "execution_count": 2,
      "metadata": {
        "colab": {
          "base_uri": "https://localhost:8080/"
        },
        "id": "hbTG3rAbhuWL",
        "outputId": "ff45b80d-df32-49b0-b6bb-54465e8bb1ad"
      },
      "outputs": [
        {
          "name": "stdout",
          "output_type": "stream",
          "text": [
            "Collecting better-profanity\n",
            "  Downloading better_profanity-0.7.0-py3-none-any.whl.metadata (7.1 kB)\n",
            "Downloading better_profanity-0.7.0-py3-none-any.whl (46 kB)\n",
            "\u001b[?25l   \u001b[90m━━━━━━━━━━━━━━━━━━━━━━━━━━━━━━━━━━━━━━━━\u001b[0m \u001b[32m0.0/46.1 kB\u001b[0m \u001b[31m?\u001b[0m eta \u001b[36m-:--:--\u001b[0m\r\u001b[2K   \u001b[90m━━━━━━━━━━━━━━━━━━━━━━━━━━━━━━━━━━━━━━━━\u001b[0m \u001b[32m46.1/46.1 kB\u001b[0m \u001b[31m2.8 MB/s\u001b[0m eta \u001b[36m0:00:00\u001b[0m\n",
            "\u001b[?25hInstalling collected packages: better-profanity\n",
            "Successfully installed better-profanity-0.7.0\n"
          ]
        }
      ],
      "source": [
        "!pip install better-profanity"
      ]
    },
    {
      "cell_type": "code",
      "execution_count": 3,
      "metadata": {
        "colab": {
          "base_uri": "https://localhost:8080/"
        },
        "id": "6xdnxt4trtil",
        "outputId": "2764980c-dd9f-4ee9-9601-bfdb1253db64"
      },
      "outputs": [
        {
          "name": "stdout",
          "output_type": "stream",
          "text": [
            "Requirement already satisfied: moviepy in /usr/local/lib/python3.10/dist-packages (1.0.3)\n",
            "Requirement already satisfied: openai-whisper in /usr/local/lib/python3.10/dist-packages (20240930)\n",
            "Requirement already satisfied: better-profanity in /usr/local/lib/python3.10/dist-packages (0.7.0)\n",
            "Requirement already satisfied: torch in /usr/local/lib/python3.10/dist-packages (2.5.1+cu121)\n",
            "Requirement already satisfied: numpy in /usr/local/lib/python3.10/dist-packages (1.26.4)\n",
            "Requirement already satisfied: decorator<5.0,>=4.0.2 in /usr/local/lib/python3.10/dist-packages (from moviepy) (4.4.2)\n",
            "Requirement already satisfied: imageio<3.0,>=2.5 in /usr/local/lib/python3.10/dist-packages (from moviepy) (2.36.1)\n",
            "Requirement already satisfied: imageio_ffmpeg>=0.2.0 in /usr/local/lib/python3.10/dist-packages (from moviepy) (0.5.1)\n",
            "Requirement already satisfied: tqdm<5.0,>=4.11.2 in /usr/local/lib/python3.10/dist-packages (from moviepy) (4.67.1)\n",
            "Requirement already satisfied: requests<3.0,>=2.8.1 in /usr/local/lib/python3.10/dist-packages (from moviepy) (2.32.3)\n",
            "Requirement already satisfied: proglog<=1.0.0 in /usr/local/lib/python3.10/dist-packages (from moviepy) (0.1.10)\n",
            "Requirement already satisfied: numba in /usr/local/lib/python3.10/dist-packages (from openai-whisper) (0.60.0)\n",
            "Requirement already satisfied: more-itertools in /usr/local/lib/python3.10/dist-packages (from openai-whisper) (10.5.0)\n",
            "Requirement already satisfied: tiktoken in /usr/local/lib/python3.10/dist-packages (from openai-whisper) (0.8.0)\n",
            "Requirement already satisfied: triton>=2.0.0 in /usr/local/lib/python3.10/dist-packages (from openai-whisper) (3.1.0)\n",
            "Requirement already satisfied: filelock in /usr/local/lib/python3.10/dist-packages (from torch) (3.16.1)\n",
            "Requirement already satisfied: typing-extensions>=4.8.0 in /usr/local/lib/python3.10/dist-packages (from torch) (4.12.2)\n",
            "Requirement already satisfied: networkx in /usr/local/lib/python3.10/dist-packages (from torch) (3.4.2)\n",
            "Requirement already satisfied: jinja2 in /usr/local/lib/python3.10/dist-packages (from torch) (3.1.4)\n",
            "Requirement already satisfied: fsspec in /usr/local/lib/python3.10/dist-packages (from torch) (2024.10.0)\n",
            "Requirement already satisfied: sympy==1.13.1 in /usr/local/lib/python3.10/dist-packages (from torch) (1.13.1)\n",
            "Requirement already satisfied: mpmath<1.4,>=1.1.0 in /usr/local/lib/python3.10/dist-packages (from sympy==1.13.1->torch) (1.3.0)\n",
            "Requirement already satisfied: pillow>=8.3.2 in /usr/local/lib/python3.10/dist-packages (from imageio<3.0,>=2.5->moviepy) (11.0.0)\n",
            "Requirement already satisfied: setuptools in /usr/local/lib/python3.10/dist-packages (from imageio_ffmpeg>=0.2.0->moviepy) (75.1.0)\n",
            "Requirement already satisfied: charset-normalizer<4,>=2 in /usr/local/lib/python3.10/dist-packages (from requests<3.0,>=2.8.1->moviepy) (3.4.0)\n",
            "Requirement already satisfied: idna<4,>=2.5 in /usr/local/lib/python3.10/dist-packages (from requests<3.0,>=2.8.1->moviepy) (3.10)\n",
            "Requirement already satisfied: urllib3<3,>=1.21.1 in /usr/local/lib/python3.10/dist-packages (from requests<3.0,>=2.8.1->moviepy) (2.2.3)\n",
            "Requirement already satisfied: certifi>=2017.4.17 in /usr/local/lib/python3.10/dist-packages (from requests<3.0,>=2.8.1->moviepy) (2024.12.14)\n",
            "Requirement already satisfied: MarkupSafe>=2.0 in /usr/local/lib/python3.10/dist-packages (from jinja2->torch) (3.0.2)\n",
            "Requirement already satisfied: llvmlite<0.44,>=0.43.0dev0 in /usr/local/lib/python3.10/dist-packages (from numba->openai-whisper) (0.43.0)\n",
            "Requirement already satisfied: regex>=2022.1.18 in /usr/local/lib/python3.10/dist-packages (from tiktoken->openai-whisper) (2024.11.6)\n"
          ]
        }
      ],
      "source": [
        "!pip install moviepy openai-whisper better-profanity torch numpy"
      ]
    },
    {
      "cell_type": "code",
      "execution_count": 4,
      "metadata": {
        "colab": {
          "base_uri": "https://localhost:8080/"
        },
        "id": "ogRpyr0R0Bmk",
        "outputId": "06bb3ff0-7891-42ee-e9b0-9ca7e2266dd9"
      },
      "outputs": [
        {
          "name": "stdout",
          "output_type": "stream",
          "text": [
            "Collecting pydub\n",
            "  Downloading pydub-0.25.1-py2.py3-none-any.whl.metadata (1.4 kB)\n",
            "Downloading pydub-0.25.1-py2.py3-none-any.whl (32 kB)\n",
            "Installing collected packages: pydub\n",
            "Successfully installed pydub-0.25.1\n"
          ]
        }
      ],
      "source": [
        "!pip install pydub"
      ]
    },
    {
      "cell_type": "code",
      "execution_count": 6,
      "metadata": {
        "colab": {
          "base_uri": "https://localhost:8080/"
        },
        "id": "Jpo6p6xBz9Ia",
        "outputId": "870b75cd-1d5c-4d88-d8f2-0c45d765cf95"
      },
      "outputs": [
        {
          "name": "stderr",
          "output_type": "stream",
          "text": [
            "WARNING:py.warnings:/usr/local/lib/python3.10/dist-packages/whisper/__init__.py:150: FutureWarning: You are using `torch.load` with `weights_only=False` (the current default value), which uses the default pickle module implicitly. It is possible to construct malicious pickle data which will execute arbitrary code during unpickling (See https://github.com/pytorch/pytorch/blob/main/SECURITY.md#untrusted-models for more details). In a future release, the default value for `weights_only` will be flipped to `True`. This limits the functions that could be executed during unpickling. Arbitrary objects will no longer be allowed to be loaded via this mode unless they are explicitly allowlisted by the user via `torch.serialization.add_safe_globals`. We recommend you start setting `weights_only=True` for any use case where you don't have full control of the loaded file. Please open an issue on GitHub for any issues related to this experimental feature.\n",
            "  checkpoint = torch.load(fp, map_location=device)\n",
            "\n",
            "WARNING:py.warnings:/usr/local/lib/python3.10/dist-packages/whisper/transcribe.py:126: UserWarning: FP16 is not supported on CPU; using FP32 instead\n",
            "  warnings.warn(\"FP16 is not supported on CPU; using FP32 instead\")\n",
            "\n"
          ]
        },
        {
          "name": "stdout",
          "output_type": "stream",
          "text": [
            "Step 1: Transcribing video...\n"
          ]
        },
        {
          "name": "stderr",
          "output_type": "stream",
          "text": [
            "100%|██████████| 1054/1054 [00:29<00:00, 35.71frames/s]"
          ]
        },
        {
          "name": "stdout",
          "output_type": "stream",
          "text": [
            "Step 2: Detecting profanity...\n",
            "No profanity detected in the video.\n"
          ]
        },
        {
          "name": "stderr",
          "output_type": "stream",
          "text": [
            "\n"
          ]
        }
      ],
      "source": [
        "import moviepy.editor as mp\n",
        "import whisper\n",
        "import json\n",
        "from pathlib import Path\n",
        "import torch\n",
        "from better_profanity import profanity\n",
        "from typing import List, Dict\n",
        "from pydub import AudioSegment\n",
        "import tempfile\n",
        "import os\n",
        "\n",
        "class VideoProfanityMuter:\n",
        "    def __init__(self, model_size=\"base\"):\n",
        "        \"\"\"\n",
        "        Initialize the system with Whisper model and profanity checker\n",
        "        \"\"\"\n",
        "        self.model = whisper.load_model(model_size)\n",
        "        profanity.load_censor_words()\n",
        "\n",
        "    def process_video(self, input_video_path: str, output_video_path: str = None):\n",
        "        \"\"\"\n",
        "        Main processing pipeline\n",
        "        \"\"\"\n",
        "        if output_video_path is None:\n",
        "            output_video_path = str(Path(input_video_path).with_stem(Path(input_video_path).stem + \"_clean\"))\n",
        "\n",
        "        print(\"Step 1: Transcribing video...\")\n",
        "        transcription = self._transcribe_video(input_video_path)\n",
        "\n",
        "        print(\"Step 2: Detecting profanity...\")\n",
        "        profanity_instances = self._detect_profanity(transcription)\n",
        "\n",
        "        if not profanity_instances:\n",
        "            print(\"No profanity detected in the video.\")\n",
        "            return input_video_path\n",
        "\n",
        "        print(\"Step 3: Muting profane sections...\")\n",
        "        self._create_clean_video(input_video_path, output_video_path, profanity_instances)\n",
        "\n",
        "        print(f\"\\nProcessing complete! Clean video saved to: {output_video_path}\")\n",
        "        return output_video_path\n",
        "\n",
        "    def _transcribe_video(self, video_path: str) -> dict:\n",
        "        \"\"\"\n",
        "        Extract audio and transcribe with word-level timestamps\n",
        "        \"\"\"\n",
        "        try:\n",
        "            # Create temporary directory for intermediate files\n",
        "            with tempfile.TemporaryDirectory() as temp_dir:\n",
        "                # Extract audio using moviepy\n",
        "                video = mp.VideoFileClip(video_path)\n",
        "                if video.audio is None:\n",
        "                    raise ValueError(\"Video has no audio track\")\n",
        "\n",
        "                temp_audio_path = os.path.join(temp_dir, \"temp_audio.wav\")\n",
        "                video.audio.write_audiofile(temp_audio_path, verbose=False, logger=None)\n",
        "                video.close()\n",
        "\n",
        "                # Transcribe\n",
        "                result = self.model.transcribe(\n",
        "                    temp_audio_path,\n",
        "                    language=\"en\",\n",
        "                    word_timestamps=True,\n",
        "                    verbose=False\n",
        "                )\n",
        "\n",
        "                # Save transcription to JSON\n",
        "                transcription_path = str(Path(video_path).with_suffix('.json'))\n",
        "                with open(transcription_path, 'w') as f:\n",
        "                    json.dump(result, f, indent=2)\n",
        "\n",
        "                return result\n",
        "\n",
        "        except Exception as e:\n",
        "            print(f\"Error during transcription: {str(e)}\")\n",
        "            raise\n",
        "\n",
        "    def _detect_profanity(self, transcription: dict) -> List[Dict]:\n",
        "        \"\"\"\n",
        "        Detect profanity in transcription with exact timestamps\n",
        "        \"\"\"\n",
        "        profanity_instances = []\n",
        "\n",
        "        if isinstance(transcription, str):\n",
        "            with open(transcription, 'r') as f:\n",
        "                transcription = json.load(f)\n",
        "\n",
        "        for segment in transcription[\"segments\"]:\n",
        "            if \"words\" not in segment:\n",
        "                continue\n",
        "\n",
        "            for word in segment[\"words\"]:\n",
        "                word_text = word[\"word\"].strip().lower()\n",
        "                if profanity.contains_profanity(word_text):\n",
        "                    instance = {\n",
        "                        \"word\": word[\"word\"],\n",
        "                        \"start_time\": int(word[\"start\"] * 1000),  # Convert to milliseconds\n",
        "                        \"end_time\": int(word[\"end\"] * 1000)\n",
        "                    }\n",
        "                    profanity_instances.append(instance)\n",
        "\n",
        "        return sorted(profanity_instances, key=lambda x: x[\"start_time\"])\n",
        "\n",
        "    def _create_clean_video(self, input_path: str, output_path: str, profanity_instances: List[Dict]):\n",
        "        \"\"\"\n",
        "        Create new video with muted profane sections using pydub\n",
        "        \"\"\"\n",
        "        try:\n",
        "            with tempfile.TemporaryDirectory() as temp_dir:\n",
        "                # Extract audio using moviepy\n",
        "                video = mp.VideoFileClip(input_path)\n",
        "                temp_audio_path = os.path.join(temp_dir, \"temp_audio.wav\")\n",
        "                video.audio.write_audiofile(temp_audio_path, verbose=False, logger=None)\n",
        "\n",
        "                # Load audio with pydub\n",
        "                audio = AudioSegment.from_wav(temp_audio_path)\n",
        "\n",
        "                # Create silent segment for muting\n",
        "                silent_segment = AudioSegment.silent(duration=100)  # 100ms silence\n",
        "\n",
        "                # Process each profanity instance\n",
        "                for instance in profanity_instances:\n",
        "                    start_time = max(0, instance[\"start_time\"] - 100)  # 100ms buffer\n",
        "                    end_time = min(len(audio), instance[\"end_time\"] + 100)\n",
        "\n",
        "                    # Calculate duration and create appropriate silence\n",
        "                    duration = end_time - start_time\n",
        "                    mute_segment = AudioSegment.silent(duration=duration)\n",
        "\n",
        "                    # Replace the segment with silence\n",
        "                    audio = audio[:start_time] + mute_segment + audio[end_time:]\n",
        "\n",
        "                # Export processed audio\n",
        "                temp_processed_audio = os.path.join(temp_dir, \"processed_audio.wav\")\n",
        "                audio.export(temp_processed_audio, format=\"wav\")\n",
        "\n",
        "                # Load processed audio back into video\n",
        "                processed_audio = mp.AudioFileClip(temp_processed_audio)\n",
        "                final_video = video.set_audio(processed_audio)\n",
        "\n",
        "                # Write final video\n",
        "                final_video.write_videofile(\n",
        "                    output_path,\n",
        "                    codec='libx264',\n",
        "                    audio_codec='aac',\n",
        "                    temp_audiofile=os.path.join(temp_dir, 'temp-final-audio.m4a'),\n",
        "                    remove_temp=True,\n",
        "                    verbose=False,\n",
        "                    logger=None\n",
        "                )\n",
        "\n",
        "                # Cleanup\n",
        "                video.close()\n",
        "                final_video.close()\n",
        "                processed_audio.close()\n",
        "\n",
        "        except Exception as e:\n",
        "            print(f\"Error during video processing: {str(e)}\")\n",
        "            raise\n",
        "\n",
        "def main():\n",
        "    try:\n",
        "        input_video = \"/content/video_1.mp4\"\n",
        "        output_video = \"/content/video_1_clean.mp4\"\n",
        "\n",
        "        muter = VideoProfanityMuter(model_size=\"base\")\n",
        "        muter.process_video(input_video, output_video)\n",
        "\n",
        "    except Exception as e:\n",
        "        print(f\"Error in main: {str(e)}\")\n",
        "\n",
        "if __name__ == \"__main__\":\n",
        "    main()"
      ]
    }
  ],
  "metadata": {
    "colab": {
      "provenance": []
    },
    "kernelspec": {
      "display_name": "Python 3",
      "name": "python3"
    },
    "language_info": {
      "name": "python"
    }
  },
  "nbformat": 4,
  "nbformat_minor": 0
}
